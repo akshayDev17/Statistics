{
 "cells": [
  {
   "cell_type": "code",
   "execution_count": 1,
   "metadata": {},
   "outputs": [],
   "source": [
    "from tqdm.notebook import tqdm\n",
    "\n",
    "import numpy as np\n",
    "\n",
    "from scipy.stats import norm, uniform\n",
    "\n",
    "import matplotlib.pyplot as plt"
   ]
  },
  {
   "cell_type": "markdown",
   "metadata": {},
   "source": [
    "# 1-sample mean Z-test"
   ]
  },
  {
   "cell_type": "code",
   "execution_count": 41,
   "metadata": {},
   "outputs": [
    {
     "name": "stdout",
     "output_type": "stream",
     "text": [
      "x_bar = 2.058, critical zscore = 1.96, C.I. = [1.872, 2.244]\n",
      " for mu_0 = -4.0, z-score = 63.857, mu_0 != mu, p-value = 0.0\n",
      " for mu_0 = -3.58, z-score = 59.43, mu_0 != mu, p-value = 0.0\n",
      " for mu_0 = -3.16, z-score = 55.003, mu_0 != mu, p-value = 0.0\n",
      " for mu_0 = -2.74, z-score = 50.575, mu_0 != mu, p-value = 0.0\n",
      " for mu_0 = -2.32, z-score = 46.148, mu_0 != mu, p-value = 0.0\n",
      " for mu_0 = -1.89, z-score = 41.616, mu_0 != mu, p-value = 0.0\n",
      " for mu_0 = -1.47, z-score = 37.188, mu_0 != mu, p-value = 0.0\n",
      " for mu_0 = -1.05, z-score = 32.761, mu_0 != mu, p-value = 0.0\n",
      " for mu_0 = -0.63, z-score = 28.334, mu_0 != mu, p-value = 0.0\n",
      " for mu_0 = -0.21, z-score = 23.907, mu_0 != mu, p-value = 0.0\n",
      " for mu_0 = 0.21, z-score = 19.48, mu_0 != mu, p-value = 0.0\n",
      " for mu_0 = 0.63, z-score = 15.052, mu_0 != mu, p-value = 0.0\n",
      " for mu_0 = 1.05, z-score = 10.625, mu_0 != mu, p-value = 0.0\n",
      " for mu_0 = 1.47, z-score = 6.198, mu_0 != mu, p-value = 0.0\n",
      " for mu_0 = 1.89, z-score = 1.771, cannot disprove hypothesis H_0: mu_0 = mu, p-value = 0.0832\n",
      " for mu_0 = 2.32, z-score = -2.762, mu_0 != mu, p-value = 0.0088\n",
      " for mu_0 = 2.74, z-score = -7.189, mu_0 != mu, p-value = 0.0\n",
      " for mu_0 = 3.16, z-score = -11.616, mu_0 != mu, p-value = 0.0\n",
      " for mu_0 = 3.58, z-score = -16.043, mu_0 != mu, p-value = 0.0\n",
      " for mu_0 = 4.0, z-score = -20.471, mu_0 != mu, p-value = 0.0\n"
     ]
    }
   ],
   "source": [
    "np.random.seed(42)\n",
    "\n",
    "# first example: population is normally distributed\n",
    "mu, sigma = 2, 3\n",
    "sample = norm.rvs(loc=mu, scale=sigma, size=1000)\n",
    "x_bar = sample.mean()\n",
    "stddev_x_bar = sigma/np.sqrt(sample.shape[0])\n",
    "\n",
    "# significance level\n",
    "alpha = 0.05\n",
    "critical_zscore = norm.ppf(1 - alpha/2)\n",
    "confidence_intervals = [round(x_bar - critical_zscore*stddev_x_bar, 3), round(x_bar + critical_zscore*stddev_x_bar, 3)]\n",
    "print(f\"x_bar = {round(x_bar, 3)}, critical zscore = {round(critical_zscore, 3)}, C.I. = {confidence_intervals}\")\n",
    "mu_0_arr = np.linspace(-2*mu, 2*mu, 20).round(2)\n",
    "for mu_0 in mu_0_arr:\n",
    "    z_statistic = (x_bar - mu_0)/stddev_x_bar\n",
    "    p_value = norm.pdf(z_statistic)\n",
    "    verdict_z_score = \"cannot disprove hypothesis H_0: mu_0 = mu\" if abs(z_statistic) < critical_zscore else \"mu_0 != mu\"\n",
    "    print(f\" for mu_0 = {mu_0}, z-score = {round(z_statistic, 3)}, {verdict_z_score}, p-value = {round(norm.pdf(z_statistic), 4)}\")"
   ]
  },
  {
   "cell_type": "code",
   "execution_count": 43,
   "metadata": {},
   "outputs": [
    {
     "name": "stdout",
     "output_type": "stream",
     "text": [
      "x_bar = 2.193, critical zscore = 1.96, C.I. (mu_0 should in this range) = [1.574, 2.813]\n",
      " for mu_0 = 0.0, z-score = 6.936, mu_0 != mu, p-value = 0.0\n",
      " for mu_0 = 0.21, z-score = 6.272, mu_0 != mu, p-value = 0.0\n",
      " for mu_0 = 0.42, z-score = 5.608, mu_0 != mu, p-value = 0.0\n",
      " for mu_0 = 0.63, z-score = 4.944, mu_0 != mu, p-value = 0.0\n",
      " for mu_0 = 0.84, z-score = 4.28, mu_0 != mu, p-value = 0.0\n",
      " for mu_0 = 1.05, z-score = 3.615, mu_0 != mu, p-value = 0.0006\n",
      " for mu_0 = 1.26, z-score = 2.951, mu_0 != mu, p-value = 0.0051\n",
      " for mu_0 = 1.47, z-score = 2.287, mu_0 != mu, p-value = 0.0292\n",
      " for mu_0 = 1.68, z-score = 1.623, cannot disprove hypothesis H_0: mu_0 = mu, p-value = 0.1068\n",
      " for mu_0 = 1.89, z-score = 0.959, cannot disprove hypothesis H_0: mu_0 = mu, p-value = 0.2518\n",
      " for mu_0 = 2.11, z-score = 0.263, cannot disprove hypothesis H_0: mu_0 = mu, p-value = 0.3853\n",
      " for mu_0 = 2.32, z-score = -0.401, cannot disprove hypothesis H_0: mu_0 = mu, p-value = 0.3682\n",
      " for mu_0 = 2.53, z-score = -1.065, cannot disprove hypothesis H_0: mu_0 = mu, p-value = 0.2263\n",
      " for mu_0 = 2.74, z-score = -1.729, cannot disprove hypothesis H_0: mu_0 = mu, p-value = 0.0895\n",
      " for mu_0 = 2.95, z-score = -2.393, mu_0 != mu, p-value = 0.0228\n",
      " for mu_0 = 3.16, z-score = -3.057, mu_0 != mu, p-value = 0.0037\n",
      " for mu_0 = 3.37, z-score = -3.721, mu_0 != mu, p-value = 0.0004\n",
      " for mu_0 = 3.58, z-score = -4.385, mu_0 != mu, p-value = 0.0\n",
      " for mu_0 = 3.79, z-score = -5.049, mu_0 != mu, p-value = 0.0\n",
      " for mu_0 = 4.0, z-score = -5.713, mu_0 != mu, p-value = 0.0\n"
     ]
    }
   ],
   "source": [
    "np.random.seed(42)\n",
    "\n",
    "# second example: population is normally distributed with a higher variance\n",
    "mu, sigma = 2, 10\n",
    "sample = norm.rvs(loc=mu, scale=sigma, size=1000)\n",
    "x_bar = sample.mean()\n",
    "stddev_x_bar = sigma/np.sqrt(sample.shape[0])\n",
    " \n",
    "# significance level\n",
    "alpha = 0.05\n",
    "critical_zscore = norm.ppf(1 - alpha/2)\n",
    "confidence_intervals = [round(x_bar - critical_zscore*stddev_x_bar, 3), round(x_bar + critical_zscore*stddev_x_bar, 3)]\n",
    "\n",
    "print(f\"x_bar = {round(x_bar, 3)}, critical zscore = {round(critical_zscore, 3)}, C.I. (mu_0 should in this range) = {confidence_intervals}\")\n",
    "\n",
    "mu_0_arr = np.linspace(0, 2*mu, 20).round(2)\n",
    "for mu_0 in mu_0_arr:\n",
    "    z_statistic = (x_bar - mu_0)/(sigma/np.sqrt(sample.shape[0]))\n",
    "    p_value = norm.pdf(z_statistic)\n",
    "    verdict_z_score = \"cannot disprove hypothesis H_0: mu_0 = mu\" if abs(z_statistic) < critical_zscore else \"mu_0 != mu\"\n",
    "    print(f\" for mu_0 = {mu_0}, z-score = {round(z_statistic, 3)}, {verdict_z_score}, p-value = {round(norm.pdf(z_statistic), 4)}\")"
   ]
  },
  {
   "cell_type": "code",
   "execution_count": 44,
   "metadata": {},
   "outputs": [
    {
     "name": "stdout",
     "output_type": "stream",
     "text": [
      "mu = 0.0, sigma = 5.774, x_bar = -0.195, critical zscore = 1.96, C.I. (mu_0 should in this range) = [-0.553, 0.163]\n",
      " for mu_0 = -10.0, z-score = 31.007, mu_0 != mu, p-value = 0.0\n",
      " for mu_0 = -8.95, z-score = 27.686, mu_0 != mu, p-value = 0.0\n",
      " for mu_0 = -7.89, z-score = 24.334, mu_0 != mu, p-value = 0.0\n",
      " for mu_0 = -6.84, z-score = 21.014, mu_0 != mu, p-value = 0.0\n",
      " for mu_0 = -5.79, z-score = 17.693, mu_0 != mu, p-value = 0.0\n",
      " for mu_0 = -4.74, z-score = 14.373, mu_0 != mu, p-value = 0.0\n",
      " for mu_0 = -3.68, z-score = 11.021, mu_0 != mu, p-value = 0.0\n",
      " for mu_0 = -2.63, z-score = 7.701, mu_0 != mu, p-value = 0.0\n",
      " for mu_0 = -1.58, z-score = 4.38, mu_0 != mu, p-value = 0.0\n",
      " for mu_0 = -0.53, z-score = 1.06, cannot disprove hypothesis H_0: mu_0 = mu, p-value = 0.2275\n",
      " for mu_0 = 0.53, z-score = -2.292, mu_0 != mu, p-value = 0.0288\n",
      " for mu_0 = 1.58, z-score = -5.613, mu_0 != mu, p-value = 0.0\n",
      " for mu_0 = 2.63, z-score = -8.933, mu_0 != mu, p-value = 0.0\n",
      " for mu_0 = 3.68, z-score = -12.253, mu_0 != mu, p-value = 0.0\n",
      " for mu_0 = 4.74, z-score = -15.605, mu_0 != mu, p-value = 0.0\n",
      " for mu_0 = 5.79, z-score = -18.926, mu_0 != mu, p-value = 0.0\n",
      " for mu_0 = 6.84, z-score = -22.246, mu_0 != mu, p-value = 0.0\n",
      " for mu_0 = 7.89, z-score = -25.567, mu_0 != mu, p-value = 0.0\n",
      " for mu_0 = 8.95, z-score = -28.919, mu_0 != mu, p-value = 0.0\n",
      " for mu_0 = 10.0, z-score = -32.239, mu_0 != mu, p-value = 0.0\n"
     ]
    }
   ],
   "source": [
    "np.random.seed(42)\n",
    "\n",
    "# third example: population is uniformly distributed\n",
    "uniform_a, uniform_b = -10, 10\n",
    "uniform_mu, uniform_sigma = (uniform_a + uniform_b)/2, np.sqrt(((uniform_b-uniform_a) ** 2 /12)).round(3)\n",
    "\n",
    "sample = np.random.uniform(low=uniform_a, high=uniform_b, size=1000)\n",
    "x_bar = sample.mean()\n",
    "stddev_x_bar = uniform_sigma/np.sqrt(sample.shape[0])\n",
    "\n",
    "# significance level\n",
    "alpha = 0.05\n",
    "critical_zscore = norm.ppf(1 - alpha/2)\n",
    "confidence_intervals = [round(x_bar - critical_zscore*stddev_x_bar, 3), round(x_bar + critical_zscore*stddev_x_bar, 3)]\n",
    "print(f\"mu = {uniform_mu}, sigma = {uniform_sigma}, x_bar = {round(x_bar, 3)}, critical zscore = {round(critical_zscore, 3)}, C.I. (mu_0 should in this range) = {confidence_intervals}\")\n",
    "\n",
    "mu_0_arr = np.linspace(uniform_a, uniform_b, 20).round(2)\n",
    "for mu_0 in mu_0_arr:\n",
    "    z_statistic = (x_bar - mu_0)/(sigma/np.sqrt(sample.shape[0]))\n",
    "    p_value = norm.pdf(z_statistic)\n",
    "    verdict_z_score = \"cannot disprove hypothesis H_0: mu_0 = mu\" if abs(z_statistic) < critical_zscore else \"mu_0 != mu\"\n",
    "    print(f\" for mu_0 = {mu_0}, z-score = {round(z_statistic, 3)}, {verdict_z_score}, p-value = {round(norm.pdf(z_statistic), 4)}\")"
   ]
  },
  {
   "cell_type": "markdown",
   "metadata": {},
   "source": [
    "# Z-test for 2-sample means"
   ]
  },
  {
   "cell_type": "markdown",
   "metadata": {},
   "source": [
    "## Normal and Normal"
   ]
  },
  {
   "cell_type": "code",
   "execution_count": 8,
   "metadata": {},
   "outputs": [
    {
     "name": "stdout",
     "output_type": "stream",
     "text": [
      "X_1: N((1, 1)), X_2: N((3, 6)), xbar_1 = 1.002, xbar_2 = 3.009, critical zscore = 1.96, confidence intervals = [-2.3836, -1.6296]\n",
      "\n",
      "zscore = -20.8294, p-value = 0.0, mu_0 = 2.0 doesn't capture population difference\n",
      "zscore = -19.4613, p-value = 0.0, mu_0 = 1.7368 doesn't capture population difference\n",
      "zscore = -18.0933, p-value = 0.0, mu_0 = 1.4737 doesn't capture population difference\n",
      "zscore = -16.7252, p-value = 0.0, mu_0 = 1.2105 doesn't capture population difference\n",
      "zscore = -15.3571, p-value = 0.0, mu_0 = 0.9474 doesn't capture population difference\n",
      "zscore = -13.989, p-value = 0.0, mu_0 = 0.6842 doesn't capture population difference\n",
      "zscore = -12.6209, p-value = 0.0, mu_0 = 0.4211 doesn't capture population difference\n",
      "zscore = -11.2528, p-value = 0.0, mu_0 = 0.1579 doesn't capture population difference\n",
      "zscore = -9.8847, p-value = 0.0, mu_0 = -0.1053 doesn't capture population difference\n",
      "zscore = -8.5166, p-value = 0.0, mu_0 = -0.3684 doesn't capture population difference\n",
      "zscore = -7.1485, p-value = 0.0, mu_0 = -0.6316 doesn't capture population difference\n",
      "zscore = -5.7804, p-value = 0.0, mu_0 = -0.8947 doesn't capture population difference\n",
      "zscore = -4.4123, p-value = 0.0, mu_0 = -1.1579 doesn't capture population difference\n",
      "zscore = -3.0442, p-value = 0.0039, mu_0 = -1.4211 doesn't capture population difference\n",
      "zscore = -1.6761, p-value = 0.0979, cannot disprove mu_0 = -1.6842 captures population difference\n",
      "zscore = -0.308, p-value = 0.3805, cannot disprove mu_0 = -1.9474 captures population difference\n",
      "zscore = 1.06, p-value = 0.2275, cannot disprove mu_0 = -2.2105 captures population difference\n",
      "zscore = 2.4281, p-value = 0.0209, mu_0 = -2.4737 doesn't capture population difference\n",
      "zscore = 3.7962, p-value = 0.0003, mu_0 = -2.7368 doesn't capture population difference\n",
      "zscore = 5.1643, p-value = 0.0, mu_0 = -3.0 doesn't capture population difference\n"
     ]
    }
   ],
   "source": [
    "# define distribution parameters\n",
    "mu_1, sigma_1 = 1, 1\n",
    "mu_2, sigma_2 = 3, 6\n",
    "\n",
    "# define distribution properties\n",
    "# None\n",
    "\n",
    "# define the two samples\n",
    "sample_size = 1000\n",
    "sample_1 = norm.rvs(loc=mu_1, scale=sigma_1, size=sample_size)\n",
    "sample_2 = norm.rvs(loc=mu_2, scale=sigma_2, size=sample_size)\n",
    "\n",
    "# define sample properties\n",
    "xbar_1, xbar_2 = sample_1.mean(), sample_2.mean()\n",
    "stddev_xbar_1 = sigma_1 / np.sqrt(sample_1.shape[0])\n",
    "stddev_xbar_2 = sigma_2 / np.sqrt(sample_2.shape[0])\n",
    "zscore_scaling_factor = np.sqrt(stddev_xbar_1 ** 2 + stddev_xbar_2 ** 2)\n",
    "\n",
    "# define the various mu_0 that'll be tested whether they capture the difference between the two samples significantly\n",
    "mu_0_arr = np.linspace(-(mu_1 - mu_2), (mu_1-mu_2)*1.5, 20)\n",
    "\n",
    "# define z-score significance level and confidence intervals\n",
    "alpha = 0.05\n",
    "critical_zscore = norm.ppf(1 - alpha/2)\n",
    "confidence_intervals = [round((xbar_1 - xbar_2) - critical_zscore*zscore_scaling_factor, 4), round((xbar_1 - xbar_2) + critical_zscore*zscore_scaling_factor, 4)]\n",
    "\n",
    "print(f\"X_1: N({mu_1, sigma_1}), X_2: N({mu_2, sigma_2}), xbar_1 = {round(xbar_1, 3)}, xbar_2 = {round(xbar_2, 3)}, critical zscore = {round(critical_zscore, 3)}, confidence intervals = {confidence_intervals}\\n\")\n",
    "\n",
    "for mu_0 in mu_0_arr:\n",
    "    z_statistic = ((xbar_1 - xbar_2) - (mu_0))/zscore_scaling_factor\n",
    "    p_value = norm.pdf(z_statistic).round(4)\n",
    "    verdict = f\"cannot disprove mu_0 = {round(mu_0, 4)} captures population difference\" if abs(z_statistic) <= critical_zscore else f\"mu_0 = {round(mu_0, 4)} doesn't capture population difference\"\n",
    "    print(f\"zscore = {round(z_statistic, 4)}, p-value = {p_value}, {verdict}\")\n"
   ]
  },
  {
   "cell_type": "markdown",
   "metadata": {},
   "source": [
    "## Normal and Uniform"
   ]
  },
  {
   "cell_type": "code",
   "execution_count": 18,
   "metadata": {},
   "outputs": [
    {
     "name": "stdout",
     "output_type": "stream",
     "text": [
      "X_1: N(1, 1), X_2: Uniform(3, 6)\n",
      " mu_2 = 4.5, sigma_2 = 0.75\n",
      " mu_1 - mu_2 = -3.5, z-score scale = 0.0395\n",
      " xbar_1 = 1.019, xbar_2 = 4.511, critical zscore = 1.96, confidence intervals = [-3.5691, -3.4141]\n",
      "\n",
      "zscore = -21.9238, p-value = 0.0, mu_0 = -2.625 doesn't capture population difference\n",
      "zscore = -18.4287, p-value = 0.0, mu_0 = -2.7632 doesn't capture population difference\n",
      "zscore = -14.9335, p-value = 0.0, mu_0 = -2.9013 doesn't capture population difference\n",
      "zscore = -11.4384, p-value = 0.0, mu_0 = -3.0395 doesn't capture population difference\n",
      "zscore = -7.9432, p-value = 0.0, mu_0 = -3.1776 doesn't capture population difference\n",
      "zscore = -4.4481, p-value = 0.0, mu_0 = -3.3158 doesn't capture population difference\n",
      "zscore = -0.9529, p-value = 0.2534, cannot disprove mu_0 = -3.4539 doesn't capture population difference\n",
      "zscore = 2.5422, p-value = 0.0158, mu_0 = -3.5921 doesn't capture population difference\n",
      "zscore = 6.0374, p-value = 0.0, mu_0 = -3.7303 doesn't capture population difference\n",
      "zscore = 9.5325, p-value = 0.0, mu_0 = -3.8684 doesn't capture population difference\n",
      "zscore = 13.0277, p-value = 0.0, mu_0 = -4.0066 doesn't capture population difference\n",
      "zscore = 16.5228, p-value = 0.0, mu_0 = -4.1447 doesn't capture population difference\n",
      "zscore = 20.018, p-value = 0.0, mu_0 = -4.2829 doesn't capture population difference\n",
      "zscore = 23.5131, p-value = 0.0, mu_0 = -4.4211 doesn't capture population difference\n",
      "zscore = 27.0083, p-value = 0.0, mu_0 = -4.5592 doesn't capture population difference\n",
      "zscore = 30.5034, p-value = 0.0, mu_0 = -4.6974 doesn't capture population difference\n",
      "zscore = 33.9986, p-value = 0.0, mu_0 = -4.8355 doesn't capture population difference\n",
      "zscore = 37.4937, p-value = 0.0, mu_0 = -4.9737 doesn't capture population difference\n",
      "zscore = 40.9889, p-value = 0.0, mu_0 = -5.1118 doesn't capture population difference\n",
      "zscore = 44.484, p-value = 0.0, mu_0 = -5.25 doesn't capture population difference\n"
     ]
    }
   ],
   "source": [
    "# set seed for repeatability\n",
    "np.random.seed(42)\n",
    "\n",
    "# define distribution parameters\n",
    "mu_1, sigma_1 = 1, 1\n",
    "uniform_a_2, uniform_b_2 = 3, 6\n",
    "\n",
    "# define distribution properties\n",
    "mu_2 = (uniform_a_2 + uniform_b_2)/2\n",
    "sigma_2 = ((uniform_b_2-uniform_a_2) ** 2)/12\n",
    "\n",
    "# define the two samples\n",
    "sample_size = 1000\n",
    "sample_1 = norm.rvs(loc=mu_1, scale=sigma_1, size=sample_size)\n",
    "sample_2 = uniform.rvs(loc=uniform_a_2, scale=uniform_b_2-uniform_a_2, size=sample_size)\n",
    "\n",
    "# define sample properties\n",
    "xbar_1, xbar_2 = sample_1.mean(), sample_2.mean()\n",
    "stddev_xbar_1 = sigma_1 / np.sqrt(sample_1.shape[0])\n",
    "stddev_xbar_2 = sigma_2 / np.sqrt(sample_2.shape[0])\n",
    "zscore_scaling_factor = np.sqrt(stddev_xbar_1 ** 2 + stddev_xbar_2 ** 2)\n",
    "\n",
    "# define the various mu_0 that'll be tested whether they capture the difference between the two samples significantly\n",
    "mu_0_arr = np.linspace((mu_1 - mu_2)*0.75, (mu_1-mu_2)*1.5, 20)\n",
    "\n",
    "# define z-score significance level and confidence intervals\n",
    "alpha = 0.05\n",
    "critical_zscore = norm.ppf(1 - alpha/2)\n",
    "confidence_intervals = [round((xbar_1 - xbar_2) - critical_zscore*zscore_scaling_factor, 4), round((xbar_1 - xbar_2) + critical_zscore*zscore_scaling_factor, 4)]\n",
    "\n",
    "print(f\"X_1: N{mu_1, sigma_1}, X_2: Uniform{uniform_a_2, uniform_b_2}\\n\"\n",
    "      f\" mu_2 = {mu_2}, sigma_2 = {sigma_2}\\n\"\n",
    "      f\" mu_1 - mu_2 = {round(mu_1 - mu_2, 4)}, z-score scale = {round(zscore_scaling_factor, 4)}\\n\"\n",
    "      f\" xbar_1 = {round(xbar_1, 3)}, xbar_2 = {round(xbar_2, 3)}, critical zscore = {round(critical_zscore, 3)}, confidence intervals = {confidence_intervals}\\n\")\n",
    "\n",
    "for mu_0 in mu_0_arr:\n",
    "    z_statistic = ((xbar_1 - xbar_2) - (mu_0))/zscore_scaling_factor\n",
    "    p_value = norm.pdf(z_statistic).round(4)\n",
    "    verdict = f\"cannot disprove mu_0 = {round(mu_0, 4)} doesn't capture population difference\" if abs(z_statistic) <= critical_zscore else f\"mu_0 = {round(mu_0, 4)} doesn't capture population difference\"\n",
    "    print(f\"zscore = {round(z_statistic, 4)}, p-value = {p_value}, {verdict}\")\n"
   ]
  }
 ],
 "metadata": {
  "kernelspec": {
   "display_name": "sts",
   "language": "python",
   "name": "python3"
  },
  "language_info": {
   "codemirror_mode": {
    "name": "ipython",
    "version": 3
   },
   "file_extension": ".py",
   "mimetype": "text/x-python",
   "name": "python",
   "nbconvert_exporter": "python",
   "pygments_lexer": "ipython3",
   "version": "3.8.20"
  }
 },
 "nbformat": 4,
 "nbformat_minor": 2
}
