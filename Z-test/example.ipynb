{
 "cells": [
  {
   "cell_type": "code",
   "execution_count": 28,
   "metadata": {},
   "outputs": [],
   "source": [
    "from tqdm.notebook import tqdm\n",
    "\n",
    "import numpy as np\n",
    "\n",
    "from scipy.stats import norm, uniform\n",
    "\n",
    "import matplotlib.pyplot as plt"
   ]
  },
  {
   "cell_type": "markdown",
   "metadata": {},
   "source": [
    "# 1-sample mean Z-test"
   ]
  },
  {
   "cell_type": "code",
   "execution_count": 41,
   "metadata": {},
   "outputs": [
    {
     "name": "stdout",
     "output_type": "stream",
     "text": [
      "x_bar = 2.058, critical zscore = 1.96, C.I. = [1.872, 2.244]\n",
      " for mu_0 = -4.0, z-score = 63.857, mu_0 != mu, p-value = 0.0\n",
      " for mu_0 = -3.58, z-score = 59.43, mu_0 != mu, p-value = 0.0\n",
      " for mu_0 = -3.16, z-score = 55.003, mu_0 != mu, p-value = 0.0\n",
      " for mu_0 = -2.74, z-score = 50.575, mu_0 != mu, p-value = 0.0\n",
      " for mu_0 = -2.32, z-score = 46.148, mu_0 != mu, p-value = 0.0\n",
      " for mu_0 = -1.89, z-score = 41.616, mu_0 != mu, p-value = 0.0\n",
      " for mu_0 = -1.47, z-score = 37.188, mu_0 != mu, p-value = 0.0\n",
      " for mu_0 = -1.05, z-score = 32.761, mu_0 != mu, p-value = 0.0\n",
      " for mu_0 = -0.63, z-score = 28.334, mu_0 != mu, p-value = 0.0\n",
      " for mu_0 = -0.21, z-score = 23.907, mu_0 != mu, p-value = 0.0\n",
      " for mu_0 = 0.21, z-score = 19.48, mu_0 != mu, p-value = 0.0\n",
      " for mu_0 = 0.63, z-score = 15.052, mu_0 != mu, p-value = 0.0\n",
      " for mu_0 = 1.05, z-score = 10.625, mu_0 != mu, p-value = 0.0\n",
      " for mu_0 = 1.47, z-score = 6.198, mu_0 != mu, p-value = 0.0\n",
      " for mu_0 = 1.89, z-score = 1.771, cannot disprove hypothesis H_0: mu_0 = mu, p-value = 0.0832\n",
      " for mu_0 = 2.32, z-score = -2.762, mu_0 != mu, p-value = 0.0088\n",
      " for mu_0 = 2.74, z-score = -7.189, mu_0 != mu, p-value = 0.0\n",
      " for mu_0 = 3.16, z-score = -11.616, mu_0 != mu, p-value = 0.0\n",
      " for mu_0 = 3.58, z-score = -16.043, mu_0 != mu, p-value = 0.0\n",
      " for mu_0 = 4.0, z-score = -20.471, mu_0 != mu, p-value = 0.0\n"
     ]
    }
   ],
   "source": [
    "np.random.seed(42)\n",
    "\n",
    "# first example: population is normally distributed\n",
    "mu, sigma = 2, 3\n",
    "sample = norm.rvs(loc=mu, scale=sigma, size=1000)\n",
    "x_bar = sample.mean()\n",
    "stddev_x_bar = sigma/np.sqrt(sample.shape[0])\n",
    "\n",
    "# significance level\n",
    "alpha = 0.05\n",
    "critical_zscore = norm.ppf(1 - alpha/2)\n",
    "confidence_intervals = [round(x_bar - critical_zscore*stddev_x_bar, 3), round(x_bar + critical_zscore*stddev_x_bar, 3)]\n",
    "print(f\"x_bar = {round(x_bar, 3)}, critical zscore = {round(critical_zscore, 3)}, C.I. = {confidence_intervals}\")\n",
    "mu_0_arr = np.linspace(-2*mu, 2*mu, 20).round(2)\n",
    "for mu_0 in mu_0_arr:\n",
    "    z_statistic = (x_bar - mu_0)/stddev_x_bar\n",
    "    p_value = norm.pdf(z_statistic)\n",
    "    verdict_z_score = \"cannot disprove hypothesis H_0: mu_0 = mu\" if abs(z_statistic) < critical_zscore else \"mu_0 != mu\"\n",
    "    print(f\" for mu_0 = {mu_0}, z-score = {round(z_statistic, 3)}, {verdict_z_score}, p-value = {round(norm.pdf(z_statistic), 4)}\")"
   ]
  },
  {
   "cell_type": "code",
   "execution_count": 43,
   "metadata": {},
   "outputs": [
    {
     "name": "stdout",
     "output_type": "stream",
     "text": [
      "x_bar = 2.193, critical zscore = 1.96, C.I. (mu_0 should in this range) = [1.574, 2.813]\n",
      " for mu_0 = 0.0, z-score = 6.936, mu_0 != mu, p-value = 0.0\n",
      " for mu_0 = 0.21, z-score = 6.272, mu_0 != mu, p-value = 0.0\n",
      " for mu_0 = 0.42, z-score = 5.608, mu_0 != mu, p-value = 0.0\n",
      " for mu_0 = 0.63, z-score = 4.944, mu_0 != mu, p-value = 0.0\n",
      " for mu_0 = 0.84, z-score = 4.28, mu_0 != mu, p-value = 0.0\n",
      " for mu_0 = 1.05, z-score = 3.615, mu_0 != mu, p-value = 0.0006\n",
      " for mu_0 = 1.26, z-score = 2.951, mu_0 != mu, p-value = 0.0051\n",
      " for mu_0 = 1.47, z-score = 2.287, mu_0 != mu, p-value = 0.0292\n",
      " for mu_0 = 1.68, z-score = 1.623, cannot disprove hypothesis H_0: mu_0 = mu, p-value = 0.1068\n",
      " for mu_0 = 1.89, z-score = 0.959, cannot disprove hypothesis H_0: mu_0 = mu, p-value = 0.2518\n",
      " for mu_0 = 2.11, z-score = 0.263, cannot disprove hypothesis H_0: mu_0 = mu, p-value = 0.3853\n",
      " for mu_0 = 2.32, z-score = -0.401, cannot disprove hypothesis H_0: mu_0 = mu, p-value = 0.3682\n",
      " for mu_0 = 2.53, z-score = -1.065, cannot disprove hypothesis H_0: mu_0 = mu, p-value = 0.2263\n",
      " for mu_0 = 2.74, z-score = -1.729, cannot disprove hypothesis H_0: mu_0 = mu, p-value = 0.0895\n",
      " for mu_0 = 2.95, z-score = -2.393, mu_0 != mu, p-value = 0.0228\n",
      " for mu_0 = 3.16, z-score = -3.057, mu_0 != mu, p-value = 0.0037\n",
      " for mu_0 = 3.37, z-score = -3.721, mu_0 != mu, p-value = 0.0004\n",
      " for mu_0 = 3.58, z-score = -4.385, mu_0 != mu, p-value = 0.0\n",
      " for mu_0 = 3.79, z-score = -5.049, mu_0 != mu, p-value = 0.0\n",
      " for mu_0 = 4.0, z-score = -5.713, mu_0 != mu, p-value = 0.0\n"
     ]
    }
   ],
   "source": [
    "np.random.seed(42)\n",
    "\n",
    "# second example: population is normally distributed with a higher variance\n",
    "mu, sigma = 2, 10\n",
    "sample = norm.rvs(loc=mu, scale=sigma, size=1000)\n",
    "x_bar = sample.mean()\n",
    "stddev_x_bar = sigma/np.sqrt(sample.shape[0])\n",
    " \n",
    "# significance level\n",
    "alpha = 0.05\n",
    "critical_zscore = norm.ppf(1 - alpha/2)\n",
    "confidence_intervals = [round(x_bar - critical_zscore*stddev_x_bar, 3), round(x_bar + critical_zscore*stddev_x_bar, 3)]\n",
    "\n",
    "print(f\"x_bar = {round(x_bar, 3)}, critical zscore = {round(critical_zscore, 3)}, C.I. (mu_0 should in this range) = {confidence_intervals}\")\n",
    "\n",
    "mu_0_arr = np.linspace(0, 2*mu, 20).round(2)\n",
    "for mu_0 in mu_0_arr:\n",
    "    z_statistic = (x_bar - mu_0)/(sigma/np.sqrt(sample.shape[0]))\n",
    "    p_value = norm.pdf(z_statistic)\n",
    "    verdict_z_score = \"cannot disprove hypothesis H_0: mu_0 = mu\" if abs(z_statistic) < critical_zscore else \"mu_0 != mu\"\n",
    "    print(f\" for mu_0 = {mu_0}, z-score = {round(z_statistic, 3)}, {verdict_z_score}, p-value = {round(norm.pdf(z_statistic), 4)}\")"
   ]
  },
  {
   "cell_type": "code",
   "execution_count": 44,
   "metadata": {},
   "outputs": [
    {
     "name": "stdout",
     "output_type": "stream",
     "text": [
      "mu = 0.0, sigma = 5.774, x_bar = -0.195, critical zscore = 1.96, C.I. (mu_0 should in this range) = [-0.553, 0.163]\n",
      " for mu_0 = -10.0, z-score = 31.007, mu_0 != mu, p-value = 0.0\n",
      " for mu_0 = -8.95, z-score = 27.686, mu_0 != mu, p-value = 0.0\n",
      " for mu_0 = -7.89, z-score = 24.334, mu_0 != mu, p-value = 0.0\n",
      " for mu_0 = -6.84, z-score = 21.014, mu_0 != mu, p-value = 0.0\n",
      " for mu_0 = -5.79, z-score = 17.693, mu_0 != mu, p-value = 0.0\n",
      " for mu_0 = -4.74, z-score = 14.373, mu_0 != mu, p-value = 0.0\n",
      " for mu_0 = -3.68, z-score = 11.021, mu_0 != mu, p-value = 0.0\n",
      " for mu_0 = -2.63, z-score = 7.701, mu_0 != mu, p-value = 0.0\n",
      " for mu_0 = -1.58, z-score = 4.38, mu_0 != mu, p-value = 0.0\n",
      " for mu_0 = -0.53, z-score = 1.06, cannot disprove hypothesis H_0: mu_0 = mu, p-value = 0.2275\n",
      " for mu_0 = 0.53, z-score = -2.292, mu_0 != mu, p-value = 0.0288\n",
      " for mu_0 = 1.58, z-score = -5.613, mu_0 != mu, p-value = 0.0\n",
      " for mu_0 = 2.63, z-score = -8.933, mu_0 != mu, p-value = 0.0\n",
      " for mu_0 = 3.68, z-score = -12.253, mu_0 != mu, p-value = 0.0\n",
      " for mu_0 = 4.74, z-score = -15.605, mu_0 != mu, p-value = 0.0\n",
      " for mu_0 = 5.79, z-score = -18.926, mu_0 != mu, p-value = 0.0\n",
      " for mu_0 = 6.84, z-score = -22.246, mu_0 != mu, p-value = 0.0\n",
      " for mu_0 = 7.89, z-score = -25.567, mu_0 != mu, p-value = 0.0\n",
      " for mu_0 = 8.95, z-score = -28.919, mu_0 != mu, p-value = 0.0\n",
      " for mu_0 = 10.0, z-score = -32.239, mu_0 != mu, p-value = 0.0\n"
     ]
    }
   ],
   "source": [
    "np.random.seed(42)\n",
    "\n",
    "# third example: population is uniformly distributed\n",
    "uniform_a, uniform_b = -10, 10\n",
    "uniform_mu, uniform_sigma = (uniform_a + uniform_b)/2, np.sqrt(((uniform_b-uniform_a) ** 2 /12)).round(3)\n",
    "\n",
    "sample = np.random.uniform(low=uniform_a, high=uniform_b, size=1000)\n",
    "x_bar = sample.mean()\n",
    "stddev_x_bar = uniform_sigma/np.sqrt(sample.shape[0])\n",
    "\n",
    "# significance level\n",
    "alpha = 0.05\n",
    "critical_zscore = norm.ppf(1 - alpha/2)\n",
    "confidence_intervals = [round(x_bar - critical_zscore*stddev_x_bar, 3), round(x_bar + critical_zscore*stddev_x_bar, 3)]\n",
    "print(f\"mu = {uniform_mu}, sigma = {uniform_sigma}, x_bar = {round(x_bar, 3)}, critical zscore = {round(critical_zscore, 3)}, C.I. (mu_0 should in this range) = {confidence_intervals}\")\n",
    "\n",
    "mu_0_arr = np.linspace(uniform_a, uniform_b, 20).round(2)\n",
    "for mu_0 in mu_0_arr:\n",
    "    z_statistic = (x_bar - mu_0)/(sigma/np.sqrt(sample.shape[0]))\n",
    "    p_value = norm.pdf(z_statistic)\n",
    "    verdict_z_score = \"cannot disprove hypothesis H_0: mu_0 = mu\" if abs(z_statistic) < critical_zscore else \"mu_0 != mu\"\n",
    "    print(f\" for mu_0 = {mu_0}, z-score = {round(z_statistic, 3)}, {verdict_z_score}, p-value = {round(norm.pdf(z_statistic), 4)}\")"
   ]
  },
  {
   "cell_type": "code",
   "execution_count": null,
   "metadata": {},
   "outputs": [],
   "source": []
  }
 ],
 "metadata": {
  "kernelspec": {
   "display_name": "sts",
   "language": "python",
   "name": "python3"
  },
  "language_info": {
   "codemirror_mode": {
    "name": "ipython",
    "version": 3
   },
   "file_extension": ".py",
   "mimetype": "text/x-python",
   "name": "python",
   "nbconvert_exporter": "python",
   "pygments_lexer": "ipython3",
   "version": "3.8.20"
  }
 },
 "nbformat": 4,
 "nbformat_minor": 2
}
